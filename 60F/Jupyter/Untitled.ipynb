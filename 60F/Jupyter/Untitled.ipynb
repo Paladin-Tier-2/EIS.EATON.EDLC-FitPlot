{
 "cells": [
  {
   "cell_type": "code",
   "execution_count": 8,
   "id": "e8846f9c-25e2-4f16-911f-b30a6e4ea6cc",
   "metadata": {},
   "outputs": [],
   "source": [
    "import pandas as pd\n",
    "import numpy as np\n",
    "import matplotlib.pyplot as plt\n",
    "from impedance.models.circuits import CustomCircuit\n",
    "from impedance.visualization import plot_nyquist, plot_residuals\n",
    "from impedance import preprocessing\n",
    "from impedance.preprocessing import saveCSV\n",
    "from itertools import product\n",
    "from joblib import Parallel, delayed"
   ]
  },
  {
   "cell_type": "code",
   "execution_count": 9,
   "id": "ef2efaa0-719f-45ec-b1ff-642f44c097ae",
   "metadata": {},
   "outputs": [],
   "source": [
    "\n",
    "\n",
    "# Load data from the example EIS data\n",
    "frequencies, Z = preprocessing.readCSV('C:/Users/DankyATM/Downloads/60F/60F-0SOC_Multiplexer2ndRun/60F-0SOC_Multiplexer2ndRun_0%SOC_AfterMath_Real&Imag.csv')\n",
    "# Keep only the impedance data in the first quadrant\n",
    "frequencies, Z = preprocessing.ignoreBelowX(frequencies, Z)\n"
   ]
  },
  {
   "cell_type": "code",
   "execution_count": 10,
   "id": "12cc918c-2c22-454e-9b66-e151f3ae4ce4",
   "metadata": {},
   "outputs": [],
   "source": [
    "\n",
    "\n",
    "# Fixed R0 and define a range of possible initial guesses for each parameter\n",
    "R0 = 0.00745  # Ohms, fixed as per your instructions\n",
    "R1_range = np.linspace(0.008, 0.02, 5)  # Adjusted range for R1\n",
    "Q_range = np.linspace(30, 60, 4)        # Adjusted range for Q\n",
    "n_range = np.linspace(0.8, 1.0, 5)      # CPE exponent\n",
    "Wo0_range = np.linspace(1e-3, 0.1, 6)   # Adjusted range for Wo0\n",
    "Wo1_range = np.linspace(1e-3, 0.1, 6)   # Adjusted range for Wo1"
   ]
  },
  {
   "cell_type": "code",
   "execution_count": 11,
   "id": "b77081d5-3b82-4c69-9ceb-8c4eec74a0d5",
   "metadata": {},
   "outputs": [],
   "source": [
    "# Define a function to fit a model and calculate the error\n",
    "def fit_model(R1, Q, n, Wo0, Wo1):\n",
    "    initial_guess = [R0, R1, Q, n, Wo0, Wo1]\n",
    "    circuit = 'R0-p(R1,CPE1)-Wo1'\n",
    "    model = CustomCircuit(circuit, initial_guess=initial_guess)\n",
    "    model.fit(frequencies, Z)\n",
    "    fit_error = np.sum(np.abs(Z - model.predict(frequencies))**2)\n",
    "    return model, fit_error"
   ]
  },
  {
   "cell_type": "code",
   "execution_count": null,
   "id": "59b3b27a-0831-4c04-8da0-8e2d82121890",
   "metadata": {},
   "outputs": [],
   "source": [
    "\n",
    "\n",
    "# Use parallel processing to speed up the search for the best fit\n",
    "results = Parallel(n_jobs=-1)(delayed(fit_model)(R1, Q, n, Wo0, Wo1) \n",
    "                              for R1, Q, n, Wo0, Wo1 in product(R1_range, Q_range, n_range, Wo0_range, Wo1_range))\n",
    "\n",
    "# Find the best fit among the results\n",
    "best_fit, lowest_error = min(results, key=lambda x: x[1])\n",
    "\n"
   ]
  },
  {
   "cell_type": "code",
   "execution_count": null,
   "id": "b45ed5e7-bf12-4d61-9d11-5adb93f75ba5",
   "metadata": {},
   "outputs": [],
   "source": [
    "from IPython.display import display\n",
    "# Assuming best_fit is already defined and calculated\n",
    "print(\"Best fit parameters:\", best_fit.parameters_)\n",
    "display(\"Best fit parameters:\", best_fit.parameters_)"
   ]
  },
  {
   "cell_type": "code",
   "execution_count": null,
   "id": "2a64e3cf-6c33-4ba9-a41c-08bd8be1832b",
   "metadata": {},
   "outputs": [],
   "source": []
  }
 ],
 "metadata": {
  "kernelspec": {
   "display_name": "Python 3 (ipykernel)",
   "language": "python",
   "name": "python3"
  },
  "language_info": {
   "codemirror_mode": {
    "name": "ipython",
    "version": 3
   },
   "file_extension": ".py",
   "mimetype": "text/x-python",
   "name": "python",
   "nbconvert_exporter": "python",
   "pygments_lexer": "ipython3",
   "version": "3.12.3"
  }
 },
 "nbformat": 4,
 "nbformat_minor": 5
}
